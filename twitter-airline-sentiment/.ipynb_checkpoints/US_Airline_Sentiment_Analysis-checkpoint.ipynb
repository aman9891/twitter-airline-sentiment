{
 "cells": [
  {
   "cell_type": "code",
   "execution_count": 1,
   "metadata": {},
   "outputs": [],
   "source": [
    "import io\n",
    "import os\n",
    "import spacy\n",
    "import fastai\n",
    "import numpy as np\n",
    "import pandas as pd\n",
    "import seaborn as sns\n",
    "import matplotlib.pyplot as plt\n",
    "\n",
    "from fastai import *\n",
    "from fastai.text import * \n",
    "from fastai.vision import *\n",
    "from functools import partial\n",
    "from spacy.symbols import ORTH\n",
    "from collections import Counter\n",
    "from sklearn import preprocessing\n",
    "from sklearn.model_selection import train_test_split\n",
    "\n",
    "import warnings\n",
    "warnings.filterwarnings(\"ignore\")"
   ]
  },
  {
   "cell_type": "code",
   "execution_count": 2,
   "metadata": {},
   "outputs": [],
   "source": [
    "def clean_tweet(tweet_text):\n",
    "    return re.sub(r' ?http[^ ]*', r'', text)"
   ]
  },
  {
   "cell_type": "code",
   "execution_count": 3,
   "metadata": {},
   "outputs": [],
   "source": [
    "# re1 = re.compile(r'  +')\n",
    "\n",
    "# def fixup(tweet_text):\n",
    "#     tweet_text = tweet_text.replace('#39;', \"'\").replace('amp;', '&').replace('#146;', \"'\").replace(\n",
    "#         'nbsp;', ' ').replace('#36;', '$').replace('\\\\n', \"\\n\").replace('quot;', \"'\").replace(\n",
    "#         '', \"\\n\").replace('\\\\\"', '\"').replace('','u_n').replace(' @.@ ','.').replace(\n",
    "#         ' @-@ ','-').replace('\\\\', ' \\\\ ')\n",
    "#     return re1.sub(' ', html.unescape(tweet_text))"
   ]
  },
  {
   "cell_type": "code",
   "execution_count": 4,
   "metadata": {},
   "outputs": [],
   "source": [
    "# def get_texts(df, n_lbls=1):\n",
    "#     labels = df.iloc[:,range(n_lbls)].values.astype(np.int64)\n",
    "#     texts = f'\\n{BOS} {FLD} 1 ' + df[n_lbls].astype(str)\n",
    "#     for i in range(n_lbls+1, len(df.columns)): texts += f' {FLD} {i-n_lbls} ' + df[i].astype(str)\n",
    "#     texts = list(texts.apply(fixup).values)\n",
    "#     print(len(texts))\n",
    "#     tok = Tokenizer().proc_all_mp(texts)\n",
    "#     return tok, list(labels)\n",
    "\n",
    "# def get_all(df, n_lbls):\n",
    "#     tok, labels = [], []\n",
    "#     for i, r in enumerate(df):\n",
    "#         print(i)\n",
    "#         tok_, labels_ = get_texts(r, n_lbls)\n",
    "#         tok += tok_;\n",
    "#         labels += labels_\n",
    "#     return tok, labels"
   ]
  },
  {
   "cell_type": "code",
   "execution_count": 5,
   "metadata": {},
   "outputs": [],
   "source": [
    "# class Tokenizer():\n",
    "#     def __init__(self, lang='en'):\n",
    "#         self.re_br = re.compile(r'<\\s*br\\s*/?>', re.IGNORECASE)\n",
    "#         self.tok = spacy.load(lang)\n",
    "#         for w in ('','',''):\n",
    "#             self.tok.tokenizer.add_special_case(w, [{ORTH: w}])\n",
    "\n",
    "#     def sub_br(self,x): return self.re_br.sub(\"\\n\", x)\n",
    "\n",
    "#     def spacy_tok(self,x):\n",
    "#         return [t.text for t in self.tok.tokenizer(self.sub_br(x))]\n",
    "\n",
    "#     re_rep = re.compile(r'(\\S)(\\1{3,})')\n",
    "#     re_word_rep = re.compile(r'(\\b\\w+\\W+)(\\1{3,})')\n",
    "\n",
    "#     @staticmethod\n",
    "#     def replace_rep(m):\n",
    "#         TK_REP = 'tk_rep'\n",
    "#         c,cc = m.groups()\n",
    "#         return f' {TK_REP} {len(cc)+1} {c} '\n",
    "\n",
    "#     @staticmethod\n",
    "#     def replace_wrep(m):\n",
    "#         TK_WREP = 'tk_wrep'\n",
    "#         c,cc = m.groups()\n",
    "#         return f' {TK_WREP} {len(cc.split())+1} {c} '\n",
    "\n",
    "#     @staticmethod\n",
    "#     def do_caps(ss):\n",
    "#         TOK_UP,TOK_SENT,TOK_MIX = ' t_up ',' t_st ',' t_mx '\n",
    "#         res = []\n",
    "#         prev='.'\n",
    "#         re_word = re.compile('\\w')\n",
    "#         re_nonsp = re.compile('\\S')\n",
    "#         for s in re.findall(r'\\w+|\\W+', ss):\n",
    "#             res += ([TOK_UP,s.lower()] if (s.isupper() and (len(s)>2))\n",
    "#                     else [s.lower()])\n",
    "#         return ''.join(res)\n",
    "\n",
    "#     def proc_text(self, s):\n",
    "     \n",
    "#         s = self.re_rep.sub(Tokenizer.replace_rep, s)\n",
    "#         s = self.re_word_rep.sub(Tokenizer.replace_wrep, s)\n",
    "#         s = Tokenizer.do_caps(s)\n",
    "#         s = re.sub(r'([/#])', r' \\1 ', s)\n",
    "#         s = re.sub(' {2,}', ' ', s)\n",
    "#         return self.spacy_tok(s)\n",
    "\n",
    "#     @staticmethod\n",
    "#     def proc_all(ss, lang):\n",
    "#         tok = Tokenizer(lang)\n",
    "#         return [tok.proc_text(s) for s in ss]\n",
    "\n",
    "#     @staticmethod\n",
    "#     def proc_all_mp(ss, lang='en', ncpus = None):\n",
    "#         ncpus = ncpus or num_cpus()//2\n",
    "#         return Tokenizer.proc_all( ss, lang)"
   ]
  },
  {
   "cell_type": "code",
   "execution_count": 6,
   "metadata": {},
   "outputs": [
    {
     "data": {
      "text/plain": [
       "(14640, 15)"
      ]
     },
     "execution_count": 6,
     "metadata": {},
     "output_type": "execute_result"
    }
   ],
   "source": [
    "full_data = pd.read_csv('Tweets.csv')\n",
    "full_data.shape"
   ]
  },
  {
   "cell_type": "code",
   "execution_count": 7,
   "metadata": {},
   "outputs": [
    {
     "data": {
      "text/html": [
       "<div>\n",
       "<style scoped>\n",
       "    .dataframe tbody tr th:only-of-type {\n",
       "        vertical-align: middle;\n",
       "    }\n",
       "\n",
       "    .dataframe tbody tr th {\n",
       "        vertical-align: top;\n",
       "    }\n",
       "\n",
       "    .dataframe thead th {\n",
       "        text-align: right;\n",
       "    }\n",
       "</style>\n",
       "<table border=\"1\" class=\"dataframe\">\n",
       "  <thead>\n",
       "    <tr style=\"text-align: right;\">\n",
       "      <th></th>\n",
       "      <th>labels</th>\n",
       "      <th>text</th>\n",
       "    </tr>\n",
       "  </thead>\n",
       "  <tbody>\n",
       "    <tr>\n",
       "      <th>0</th>\n",
       "      <td>neutral</td>\n",
       "      <td>@VirginAmerica What @dhepburn said.</td>\n",
       "    </tr>\n",
       "    <tr>\n",
       "      <th>1</th>\n",
       "      <td>positive</td>\n",
       "      <td>@VirginAmerica plus you've added commercials t...</td>\n",
       "    </tr>\n",
       "    <tr>\n",
       "      <th>2</th>\n",
       "      <td>neutral</td>\n",
       "      <td>@VirginAmerica I didn't today... Must mean I n...</td>\n",
       "    </tr>\n",
       "    <tr>\n",
       "      <th>3</th>\n",
       "      <td>negative</td>\n",
       "      <td>@VirginAmerica it's really aggressive to blast...</td>\n",
       "    </tr>\n",
       "    <tr>\n",
       "      <th>4</th>\n",
       "      <td>negative</td>\n",
       "      <td>@VirginAmerica and it's a really big bad thing...</td>\n",
       "    </tr>\n",
       "  </tbody>\n",
       "</table>\n",
       "</div>"
      ],
      "text/plain": [
       "     labels                                               text\n",
       "0   neutral                @VirginAmerica What @dhepburn said.\n",
       "1  positive  @VirginAmerica plus you've added commercials t...\n",
       "2   neutral  @VirginAmerica I didn't today... Must mean I n...\n",
       "3  negative  @VirginAmerica it's really aggressive to blast...\n",
       "4  negative  @VirginAmerica and it's a really big bad thing..."
      ]
     },
     "execution_count": 7,
     "metadata": {},
     "output_type": "execute_result"
    }
   ],
   "source": [
    "data = full_data[['airline_sentiment', 'text']]\n",
    "data.columns = ['labels', 'text']\n",
    "data.head()"
   ]
  },
  {
   "cell_type": "code",
   "execution_count": 9,
   "metadata": {},
   "outputs": [],
   "source": [
    "tweets = []\n",
    "\n",
    "for tweet in data['text']:\n",
    "    if re.search(r'http', tweet_text) is not None:\n",
    "        tweets.append(clean_tweet(tweet))\n",
    "    else:\n",
    "        tweets.append(tweet)\n",
    "\n",
    "data['text'] = tweets"
   ]
  },
  {
   "cell_type": "code",
   "execution_count": 10,
   "metadata": {},
   "outputs": [],
   "source": [
    "# replace_map = {'labels': {'negative': -1, 'neutral': 0, 'positive': 1}}\n",
    "# data.replace(replace_map, inplace=True)\n",
    "# data.head()"
   ]
  },
  {
   "cell_type": "code",
   "execution_count": 11,
   "metadata": {},
   "outputs": [
    {
     "name": "stdout",
     "output_type": "stream",
     "text": [
      "(8784, 2) (5856, 2)\n",
      "     labels                                               text\n",
      "0  positive  @SouthwestAir Flight 3056 . Only hour long bes...\n",
      "1  negative  @USAirways & ; seats , fees . Seems I 'm takin...\n",
      "2  positive  @AmericanAir RDU Customer Service awesome . Th...\n",
      "3  negative  @united . epic fail . @reagan . jetway . 15 mi...\n",
      "4  negative  @USAirways hold 1hr , 30min . Not willing hang...\n",
      "     labels                                               text\n",
      "0  positive            @AmericanAir oh 's issue resolved I air\n",
      "1   neutral              @JetBlue scheduled depart scheduled ?\n",
      "2   neutral  @SouthwestAir I eternally grateful tickets Veg...\n",
      "3  negative  @SouthwestAir plane switch 636 meant A= plane ...\n",
      "4  negative  @USAirways What mess caused computer systems ....\n"
     ]
    }
   ],
   "source": [
    "data_trn, data_val = train_test_split(data, stratify = data['labels'], test_size = 0.4, random_state = 42)\n",
    "data_trn.reset_index(drop=True, inplace=True)\n",
    "data_val.reset_index(drop=True, inplace=True)\n",
    "print(data_trn.shape, data_val.shape)\n",
    "print(data_trn.head())\n",
    "print(data_val.head())"
   ]
  },
  {
   "cell_type": "code",
   "execution_count": 12,
   "metadata": {},
   "outputs": [],
   "source": [
    "data_trn.to_csv('train.csv', header=False, index=False)\n",
    "data_val.to_csv('test.csv', header=False, index=False)"
   ]
  },
  {
   "cell_type": "code",
   "execution_count": 13,
   "metadata": {},
   "outputs": [],
   "source": [
    "# data_trn = pd.read_csv('train.csv', header=None)\n",
    "# data_val = pd.read_csv('test.csv', header=None)"
   ]
  },
  {
   "cell_type": "code",
   "execution_count": 14,
   "metadata": {},
   "outputs": [],
   "source": [
    "# ------------------------------------------- From Here"
   ]
  },
  {
   "cell_type": "code",
   "execution_count": 15,
   "metadata": {},
   "outputs": [],
   "source": [
    "# chunksize=25000\n",
    "\n",
    "# data_trn = pd.read_csv('train.csv', header=None, chunksize=chunksize)\n",
    "# data_val = pd.read_csv('test.csv', header=None, chunksize=chunksize)"
   ]
  },
  {
   "cell_type": "code",
   "execution_count": 16,
   "metadata": {},
   "outputs": [],
   "source": [
    "# tok_trn, trn_labels = get_all(data_trn, 1)\n",
    "# tok_val, val_labels = get_all(data_val, 1)"
   ]
  },
  {
   "cell_type": "code",
   "execution_count": 17,
   "metadata": {},
   "outputs": [],
   "source": [
    "# np.save('tok_trn.npy', tok_trn)\n",
    "# np.save('trn_labels.npy', trn_labels)\n",
    "# np.save('tok_val.npy', tok_val)\n",
    "# np.save('val_labels.npy', val_labels)"
   ]
  },
  {
   "cell_type": "code",
   "execution_count": 18,
   "metadata": {},
   "outputs": [],
   "source": [
    "# tok_trn = np.load('tok_trn.npy')\n",
    "# trn_labels = np.load('trn_labels.npy')\n",
    "# tok_val = np.load('tok_val.npy')\n",
    "# val_labels = np.load('val_labels.npy')"
   ]
  },
  {
   "cell_type": "code",
   "execution_count": 19,
   "metadata": {},
   "outputs": [],
   "source": [
    "# freq = Counter(p for o in tok_trn for p in o)\n",
    "# freq.most_common(25)"
   ]
  },
  {
   "cell_type": "code",
   "execution_count": 20,
   "metadata": {},
   "outputs": [],
   "source": [
    "# max_vocab = 60000\n",
    "# min_freq  = 2\n",
    "# itos = [o for o,c in freq.most_common(max_vocab) if c > min_freq]\n",
    "# itos.insert(0, '_pad_')\n",
    "# itos.insert(0, '_unk_')"
   ]
  },
  {
   "cell_type": "code",
   "execution_count": 21,
   "metadata": {},
   "outputs": [],
   "source": [
    "# #Creating String key string to integer\n",
    "# stoi = defaultdict(lambda:0, {v:k for k,v in enumerate(itos)})"
   ]
  },
  {
   "cell_type": "code",
   "execution_count": 22,
   "metadata": {},
   "outputs": [],
   "source": [
    "# trn_lm = np.array([[stoi[o] for o in p] for p in tok_trn])\n",
    "# val_lm = np.array([[stoi[o] for o in p] for p in tok_val])"
   ]
  },
  {
   "cell_type": "code",
   "execution_count": 23,
   "metadata": {},
   "outputs": [],
   "source": [
    "# ------------------------------------------------ Till Here"
   ]
  },
  {
   "cell_type": "code",
   "execution_count": 24,
   "metadata": {},
   "outputs": [],
   "source": [
    "# Language model data\n",
    "data_lm = TextLMDataBunch.from_df(train_df = data_trn, valid_df = data_val, path = \"./\")\n",
    "# Classifier model data\n",
    "data_clas = TextClasDataBunch.from_df(train_df = data_trn, valid_df = data_val, vocab=data_lm.train_ds.vocab, path = \"./\")"
   ]
  },
  {
   "cell_type": "code",
   "execution_count": 25,
   "metadata": {},
   "outputs": [],
   "source": [
    "data_lm.save()\n",
    "data_clas.save()"
   ]
  },
  {
   "cell_type": "code",
   "execution_count": 26,
   "metadata": {},
   "outputs": [],
   "source": [
    "learn = language_model_learner(data_lm, pretrained_model=URLs.WT103, drop_mult=0.5)"
   ]
  },
  {
   "cell_type": "code",
   "execution_count": 27,
   "metadata": {},
   "outputs": [
    {
     "name": "stdout",
     "output_type": "stream",
     "text": [
      "LR Finder is complete, type {learner_name}.recorder.plot() to see the graph.\n"
     ]
    },
    {
     "data": {
      "image/png": "[encoded data removed]",
      "text/plain": [
       "<Figure size 432x288 with 1 Axes>"
      ]
     },
     "metadata": {
      "needs_background": "light"
     },
     "output_type": "display_data"
    }
   ],
   "source": [
    "learn.lr_find(start_lr=float('1e-05'), end_lr=float('3'), num_it=100, stop_div=True)\n",
    "learn.recorder.plot()"
   ]
  },
  {
   "cell_type": "code",
   "execution_count": 28,
   "metadata": {},
   "outputs": [
    {
     "data": {
      "text/html": [
       "Total time: 06:41 <p><table style='width:300px; margin-bottom:10px'>\n",
       "  <tr>\n",
       "    <th>epoch</th>\n",
       "    <th>train_loss</th>\n",
       "    <th>valid_loss</th>\n",
       "    <th>accuracy</th>\n",
       "  </tr>\n",
       "  <tr>\n",
       "    <th>1</th>\n",
       "    <th>5.462341</th>\n",
       "    <th>4.444169</th>\n",
       "    <th>0.222982</th>\n",
       "  </tr>\n",
       "</table>\n"
      ],
      "text/plain": [
       "<IPython.core.display.HTML object>"
      ]
     },
     "metadata": {},
     "output_type": "display_data"
    }
   ],
   "source": [
    "# train the learner object with learning rate\n",
    "learn.freeze_to(-3)\n",
    "learn.fit_one_cycle(1, 5e-2, moms=(0.8, 0.7))"
   ]
  },
  {
   "cell_type": "code",
   "execution_count": 29,
   "metadata": {},
   "outputs": [],
   "source": [
    "# Save this encoder to use it for classification later\n",
    "learn.save_encoder('ft_enc_article_based')"
   ]
  },
  {
   "cell_type": "code",
   "execution_count": 30,
   "metadata": {},
   "outputs": [
    {
     "data": {
      "image/png": "[encoded data removed]",
      "text/plain": [
       "<Figure size 432x288 with 1 Axes>"
      ]
     },
     "metadata": {
      "needs_background": "light"
     },
     "output_type": "display_data"
    }
   ],
   "source": [
    "learn.recorder.plot_losses()"
   ]
  },
  {
   "cell_type": "code",
   "execution_count": 31,
   "metadata": {},
   "outputs": [
    {
     "data": {
      "text/html": [
       "<table>  <col width='90%'>  <col width='10%'>  <tr>\n",
       "    <th>text</th>\n",
       "    <th>target</th>\n",
       "  </tr>\n",
       "  <tr>\n",
       "    <th>xxbos @united xxmaj hi question future xxmaj flight xxmaj booking xxmaj problems . xxup xxunk - xxup jac xxunk / 9 xxup jac - xxup lax 8 / 10 xxup lax - xxup xxunk 13 / 10 . i ' m * xxup xxunk xxmaj what checked bag allowance xxup jac - xxup lax ?</th>\n",
       "    <th>neutral</th>\n",
       "  </tr>\n",
       "  <tr>\n",
       "    <th>xxbos @usairways xxup plans xxup changed ! xxup is xxup that xxup what u xxup call xxup not xxup xxunk xxup able 2 xxup xxunk xxup on xxup time xxup planes w a 2 xxup hr xxup layover n b xxup able 2 xxup make xxup ur xxup connection ! # seriously</th>\n",
       "    <th>negative</th>\n",
       "  </tr>\n",
       "  <tr>\n",
       "    <th>xxbos @southwestair i need xxmaj imagine xxmaj dragons like i need air xxrep 5 . xxup please xxup xxunk xxup me xxup up xxup for xxup the xxup vegas xxup show ( xxunk ° xxunk xxunk ° )</th>\n",
       "    <th>neutral</th>\n",
       "  </tr>\n",
       "  <tr>\n",
       "    <th>xxbos @united xxmaj step 1 : xxmaj cancelled xxmaj flight flight . xxmaj step 2 : xxmaj do n't notify customer . xxmaj step 3 : xxmaj charge food try survive wait . xxmaj brilliant .</th>\n",
       "    <th>negative</th>\n",
       "  </tr>\n",
       "  <tr>\n",
       "    <th>xxbos @americanair 1hr xxunk min . xxmaj cost flight change $ xxunk . xxmaj was $ xxunk 2hrs ago b / f drop . xxmaj cancelled xxmaj flighted flight . xxmaj asked 4 refund .</th>\n",
       "    <th>negative</th>\n",
       "  </tr>\n",
       "</table>\n"
      ],
      "text/plain": [
       "<IPython.core.display.HTML object>"
      ]
     },
     "metadata": {},
     "output_type": "display_data"
    }
   ],
   "source": [
    "data_clas.show_batch()"
   ]
  },
  {
   "cell_type": "code",
   "execution_count": 32,
   "metadata": {},
   "outputs": [],
   "source": [
    "# Use the data_clas object we created earlier to build a classifier with our fine-tuned encoder\n",
    "classifier = text_classifier_learner(data_clas, drop_mult=0.5)\n",
    "classifier.load_encoder('ft_enc_article_based')"
   ]
  },
  {
   "cell_type": "code",
   "execution_count": 33,
   "metadata": {},
   "outputs": [
    {
     "data": {
      "text/html": [
       "Total time: 02:59 <p><table style='width:300px; margin-bottom:10px'>\n",
       "  <tr>\n",
       "    <th>epoch</th>\n",
       "    <th>train_loss</th>\n",
       "    <th>valid_loss</th>\n",
       "    <th>accuracy</th>\n",
       "  </tr>\n",
       "  <tr>\n",
       "    <th>1</th>\n",
       "    <th>0.781310</th>\n",
       "    <th>1.114441</th>\n",
       "    <th>0.712090</th>\n",
       "  </tr>\n",
       "</table>\n"
      ],
      "text/plain": [
       "<IPython.core.display.HTML object>"
      ]
     },
     "metadata": {},
     "output_type": "display_data"
    }
   ],
   "source": [
    "# We will again try to fit our model\n",
    "classifier.fit_one_cycle(1, 5e-2, moms=(0.8, 0.7))"
   ]
  },
  {
   "cell_type": "code",
   "execution_count": 34,
   "metadata": {},
   "outputs": [
    {
     "data": {
      "image/png": "[encoded data removed]",
      "text/plain": [
       "<Figure size 432x288 with 1 Axes>"
      ]
     },
     "metadata": {
      "needs_background": "light"
     },
     "output_type": "display_data"
    }
   ],
   "source": [
    "# Get predictions\n",
    "preds, targets, losses = classifier.get_preds(with_loss=True)\n",
    "interp = ClassificationInterpretation(data_clas, preds, targets, losses)\n",
    "interp.plot_confusion_matrix()"
   ]
  }
 ],
 "metadata": {
  "kernelspec": {
   "display_name": "Python 3",
   "language": "python",
   "name": "python3"
  },
  "language_info": {
   "codemirror_mode": {
    "name": "ipython",
    "version": 3
   },
   "file_extension": ".py",
   "mimetype": "text/x-python",
   "name": "python",
   "nbconvert_exporter": "python",
   "pygments_lexer": "ipython3",
   "version": "3.6.7"
  }
 },
 "nbformat": 4,
 "nbformat_minor": 2
}
